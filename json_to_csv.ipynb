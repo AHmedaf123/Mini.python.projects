{
  "nbformat": 4,
  "nbformat_minor": 0,
  "metadata": {
    "colab": {
      "provenance": []
    },
    "kernelspec": {
      "name": "python3",
      "display_name": "Python 3"
    },
    "language_info": {
      "name": "python"
    }
  },
  "cells": [
    {
      "cell_type": "code",
      "execution_count": 5,
      "metadata": {
        "id": "m1YUvIL7jSD4"
      },
      "outputs": [],
      "source": [
        "import json\n",
        "import csv\n",
        "with open('input.json','r') as json_file:\n",
        "  data = json.load(json_file)\n",
        "with open('output.csv','w', newline='') as csv_file:\n",
        "  csv_writer = csv.writer(csv_file)\n",
        "  csv_writer.writerow(data[0].keys())\n",
        "  for item in data:\n",
        "    csv_writer.writerow(item.values())"
      ]
    }
  ]
}