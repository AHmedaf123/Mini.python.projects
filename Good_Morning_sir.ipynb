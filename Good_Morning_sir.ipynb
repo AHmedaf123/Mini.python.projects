{
  "nbformat": 4,
  "nbformat_minor": 0,
  "metadata": {
    "colab": {
      "provenance": []
    },
    "kernelspec": {
      "name": "python3",
      "display_name": "Python 3"
    },
    "language_info": {
      "name": "python"
    }
  },
  "cells": [
    {
      "cell_type": "markdown",
      "source": [
        "# Good Morning sir"
      ],
      "metadata": {
        "id": "Uk1ioaoacXyV"
      }
    },
    {
      "cell_type": "code",
      "execution_count": 3,
      "metadata": {
        "colab": {
          "base_uri": "https://localhost:8080/"
        },
        "id": "EIpTwP56cVG_",
        "outputId": "6389193e-f8b0-4e57-afa2-ee234b3ab04a"
      },
      "outputs": [
        {
          "output_type": "stream",
          "name": "stdout",
          "text": [
            "Good Night sir\n"
          ]
        }
      ],
      "source": [
        "import time\n",
        "timestam = time.strftime(\"%H:%M:%S\")\n",
        "if timestam <= \"12:00:00\":\n",
        "    print(\"Good Morning sir\")\n",
        "elif timestam <= \"18:00:00\":\n",
        "    print(\"Good Afternoon sir\")\n",
        "elif timestam <= \"24:00:00\":\n",
        "    print(\"Good Night sir\")\n",
        "else:\n",
        "  print(\"Its Midnight Sleep you mother fucker\")"
      ]
    }
  ]
}